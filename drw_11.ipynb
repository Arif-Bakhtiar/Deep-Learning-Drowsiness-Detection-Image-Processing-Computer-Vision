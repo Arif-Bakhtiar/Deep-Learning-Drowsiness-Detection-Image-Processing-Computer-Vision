{
  "metadata": {
    "kernelspec": {
      "language": "python",
      "display_name": "Python 3",
      "name": "python3"
    },
    "language_info": {
      "name": "python",
      "version": "3.10.12",
      "mimetype": "text/x-python",
      "codemirror_mode": {
        "name": "ipython",
        "version": 3
      },
      "pygments_lexer": "ipython3",
      "nbconvert_exporter": "python",
      "file_extension": ".py"
    },
    "colab": {
      "provenance": []
    }
  },
  "nbformat_minor": 0,
  "nbformat": 4,
  "cells": [
    {
      "cell_type": "code",
      "source": [
        "import tensorflow as tf\n",
        "from tensorflow.keras.preprocessing.image import ImageDataGenerator , load_img, img_to_array, array_to_img\n",
        "from keras.datasets import mnist\n",
        "import os\n",
        "from sklearn.model_selection import train_test_split\n",
        "from sklearn.preprocessing import LabelBinarizer\n",
        "import matplotlib.pyplot as plt\n",
        "import numpy as np\n",
        "import seaborn as sns\n",
        "from sklearn.metrics import confusion_matrix, auc, roc_curve\n",
        "from tensorflow.keras.applications import InceptionResNetV2  # Use Inception-ResNetV2\n",
        "from tensorflow.keras.models import Sequential\n",
        "from tensorflow.keras.layers import Dense, GlobalAveragePooling2D, Dropout\n"
      ],
      "metadata": {
        "_uuid": "8f2839f25d086af736a60e9eeb907d3b93b6e0e5",
        "_cell_guid": "b1076dfc-b9ad-4769-8c92-a6c4dae69d19",
        "execution": {
          "iopub.status.busy": "2023-09-19T02:51:07.362347Z",
          "iopub.execute_input": "2023-09-19T02:51:07.362699Z",
          "iopub.status.idle": "2023-09-19T02:51:16.394160Z",
          "shell.execute_reply.started": "2023-09-19T02:51:07.362670Z",
          "shell.execute_reply": "2023-09-19T02:51:16.393182Z"
        },
        "trusted": true,
        "id": "FN_9m4bDZN3R"
      },
      "execution_count": 1,
      "outputs": []
    },
    {
      "cell_type": "code",
      "source": [
        "# Check GPU availability\n",
        "print(tf.test.is_gpu_available())\n",
        "print(tf.config.list_physical_devices('GPU'))"
      ],
      "metadata": {
        "execution": {
          "iopub.status.busy": "2023-09-19T02:51:16.395884Z",
          "iopub.execute_input": "2023-09-19T02:51:16.396869Z",
          "iopub.status.idle": "2023-09-19T02:51:18.880038Z",
          "shell.execute_reply.started": "2023-09-19T02:51:16.396834Z",
          "shell.execute_reply": "2023-09-19T02:51:18.878485Z"
        },
        "trusted": true,
        "colab": {
          "base_uri": "https://localhost:8080/"
        },
        "id": "zQPzDNtOZN3Z",
        "outputId": "55cbcf98-4234-4e8a-960b-4b873e97af03"
      },
      "execution_count": 2,
      "outputs": [
        {
          "output_type": "stream",
          "name": "stderr",
          "text": [
            "WARNING:tensorflow:From <ipython-input-2-8a182d0854f0>:2: is_gpu_available (from tensorflow.python.framework.test_util) is deprecated and will be removed in a future version.\n",
            "Instructions for updating:\n",
            "Use `tf.config.list_physical_devices('GPU')` instead.\n"
          ]
        },
        {
          "output_type": "stream",
          "name": "stdout",
          "text": [
            "False\n",
            "[]\n"
          ]
        }
      ]
    },
    {
      "cell_type": "code",
      "source": [
        "# Load the dataset and visualize images\n",
        "labels = os.listdir(\"/content/drive/MyDrive/VLSI/augmented_dataset/train\")\n"
      ],
      "metadata": {
        "execution": {
          "iopub.status.busy": "2023-09-19T02:51:18.881776Z",
          "iopub.execute_input": "2023-09-19T02:51:18.882869Z",
          "iopub.status.idle": "2023-09-19T02:51:18.895938Z",
          "shell.execute_reply.started": "2023-09-19T02:51:18.882832Z",
          "shell.execute_reply": "2023-09-19T02:51:18.895032Z"
        },
        "trusted": true,
        "id": "zv0b50FfZN3b"
      },
      "execution_count": 3,
      "outputs": []
    },
    {
      "cell_type": "code",
      "source": [
        "# Load the data using ImageDataGenerator\n",
        "datagen = ImageDataGenerator(\n",
        "    rescale=1./255,\n",
        "    validation_split=0.2,\n",
        "    zoom_range=0.2,\n",
        "    horizontal_flip=True,\n",
        "    rotation_range=30\n",
        ")"
      ],
      "metadata": {
        "execution": {
          "iopub.status.busy": "2023-09-19T02:51:18.900316Z",
          "iopub.execute_input": "2023-09-19T02:51:18.900578Z",
          "iopub.status.idle": "2023-09-19T02:51:18.907733Z",
          "shell.execute_reply.started": "2023-09-19T02:51:18.900554Z",
          "shell.execute_reply": "2023-09-19T02:51:18.906774Z"
        },
        "trusted": true,
        "id": "x-u_XuitZN3c"
      },
      "execution_count": 4,
      "outputs": []
    },
    {
      "cell_type": "code",
      "source": [
        "# Load the dataset and split into training and testing sets\n",
        "directory = \"/content/drive/MyDrive/VLSI/augmented_dataset/train\"\n",
        "target_size = (120, 120)\n",
        "batch_size = 7423 # Adjust batch size as needed\n",
        "\n",
        "# Load the dataset and split into training and testing sets\n",
        "data = datagen.flow_from_directory(\n",
        "    directory,\n",
        "    target_size=target_size,\n",
        "    batch_size=batch_size,  # Specify batch size here\n",
        "    class_mode='categorical',\n",
        "    subset='training'\n",
        ")\n",
        "\n",
        "# Split the data into training and testing sets\n",
        "x, y = data.next()\n",
        "x_train, x_test, y_train, y_test = train_test_split(x, y, test_size=0.2, random_state=42)\n",
        "\n",
        "# Encode the labels using one-hot encoding\n",
        "label_bin = LabelBinarizer()\n",
        "y_train = label_bin.fit_transform(y_train)\n",
        "y_test = label_bin.transform(y_test)"
      ],
      "metadata": {
        "execution": {
          "iopub.status.busy": "2023-09-19T02:51:18.910367Z",
          "iopub.execute_input": "2023-09-19T02:51:18.910758Z",
          "iopub.status.idle": "2023-09-19T02:52:54.827681Z",
          "shell.execute_reply.started": "2023-09-19T02:51:18.910709Z",
          "shell.execute_reply": "2023-09-19T02:52:54.826598Z"
        },
        "trusted": true,
        "colab": {
          "base_uri": "https://localhost:8080/"
        },
        "id": "b20T7FxRZN3d",
        "outputId": "15cc4148-d55d-4c53-9ea9-75cfd75b2a56"
      },
      "execution_count": 5,
      "outputs": [
        {
          "output_type": "stream",
          "name": "stdout",
          "text": [
            "Found 7423 images belonging to 4 classes.\n"
          ]
        }
      ]
    },
    {
      "cell_type": "code",
      "source": [
        "from google.colab import drive\n",
        "drive.mount('/content/drive')"
      ],
      "metadata": {
        "colab": {
          "base_uri": "https://localhost:8080/"
        },
        "id": "M7cLs_87ZbMN",
        "outputId": "0c0be561-46ae-4ab8-b8f5-a25649129085"
      },
      "execution_count": 6,
      "outputs": [
        {
          "output_type": "stream",
          "name": "stdout",
          "text": [
            "Drive already mounted at /content/drive; to attempt to forcibly remount, call drive.mount(\"/content/drive\", force_remount=True).\n"
          ]
        }
      ]
    },
    {
      "cell_type": "code",
      "source": [
        "# Create the Inception-ResNetV2 base model\n",
        "base_model = InceptionResNetV2(weights='imagenet', include_top=False, input_shape=(120, 120, 3))\n"
      ],
      "metadata": {
        "execution": {
          "iopub.status.busy": "2023-09-19T02:52:54.829331Z",
          "iopub.execute_input": "2023-09-19T02:52:54.829753Z",
          "iopub.status.idle": "2023-09-19T02:53:08.384470Z",
          "shell.execute_reply.started": "2023-09-19T02:52:54.829700Z",
          "shell.execute_reply": "2023-09-19T02:53:08.383464Z"
        },
        "trusted": true,
        "id": "KXbG148TZN3f"
      },
      "execution_count": 7,
      "outputs": []
    },
    {
      "cell_type": "code",
      "source": [
        "\n",
        "# Add custom layers for classification on top of the base model\n",
        "model = Sequential([\n",
        "    base_model,\n",
        "    GlobalAveragePooling2D(),\n",
        "    Dense(64, activation='relu'),\n",
        "    Dropout(0.5),\n",
        "    Dense(4, activation='sigmoid')\n",
        "])\n"
      ],
      "metadata": {
        "execution": {
          "iopub.status.busy": "2023-09-19T02:53:08.385968Z",
          "iopub.execute_input": "2023-09-19T02:53:08.386306Z",
          "iopub.status.idle": "2023-09-19T02:53:10.076054Z",
          "shell.execute_reply.started": "2023-09-19T02:53:08.386273Z",
          "shell.execute_reply": "2023-09-19T02:53:10.075095Z"
        },
        "trusted": true,
        "id": "F_Cy4LlTZN3g"
      },
      "execution_count": 8,
      "outputs": []
    },
    {
      "cell_type": "code",
      "source": [
        "# Freeze the layers in the base model\n",
        "for layer in base_model.layers:\n",
        "    layer.trainable = False\n"
      ],
      "metadata": {
        "execution": {
          "iopub.status.busy": "2023-09-19T02:53:10.077432Z",
          "iopub.execute_input": "2023-09-19T02:53:10.077802Z",
          "iopub.status.idle": "2023-09-19T02:53:10.111808Z",
          "shell.execute_reply.started": "2023-09-19T02:53:10.077768Z",
          "shell.execute_reply": "2023-09-19T02:53:10.110918Z"
        },
        "trusted": true,
        "id": "Y9i8EFa6ZN3h"
      },
      "execution_count": 9,
      "outputs": []
    },
    {
      "cell_type": "code",
      "source": [
        "# Compile the model\n",
        "optimizer = tf.keras.optimizers.Adam(learning_rate=0.001)\n",
        "model.compile(loss=\"categorical_crossentropy\", metrics=[\"accuracy\"], optimizer=optimizer)\n",
        "model.summary()\n"
      ],
      "metadata": {
        "execution": {
          "iopub.status.busy": "2023-09-19T02:53:10.113221Z",
          "iopub.execute_input": "2023-09-19T02:53:10.113584Z",
          "iopub.status.idle": "2023-09-19T02:53:10.243414Z",
          "shell.execute_reply.started": "2023-09-19T02:53:10.113553Z",
          "shell.execute_reply": "2023-09-19T02:53:10.242263Z"
        },
        "trusted": true,
        "colab": {
          "base_uri": "https://localhost:8080/"
        },
        "id": "3qYPTM_hZN3h",
        "outputId": "b28fd641-3d94-4dd1-fb50-220c16a93fa6"
      },
      "execution_count": 10,
      "outputs": [
        {
          "output_type": "stream",
          "name": "stdout",
          "text": [
            "Model: \"sequential\"\n",
            "_________________________________________________________________\n",
            " Layer (type)                Output Shape              Param #   \n",
            "=================================================================\n",
            " inception_resnet_v2 (Funct  (None, 2, 2, 1536)        54336736  \n",
            " ional)                                                          \n",
            "                                                                 \n",
            " global_average_pooling2d (  (None, 1536)              0         \n",
            " GlobalAveragePooling2D)                                         \n",
            "                                                                 \n",
            " dense (Dense)               (None, 64)                98368     \n",
            "                                                                 \n",
            " dropout (Dropout)           (None, 64)                0         \n",
            "                                                                 \n",
            " dense_1 (Dense)             (None, 4)                 260       \n",
            "                                                                 \n",
            "=================================================================\n",
            "Total params: 54435364 (207.65 MB)\n",
            "Trainable params: 98628 (385.27 KB)\n",
            "Non-trainable params: 54336736 (207.28 MB)\n",
            "_________________________________________________________________\n"
          ]
        }
      ]
    },
    {
      "cell_type": "code",
      "source": [
        "# Train the model\n",
        "hist = model.fit(x_train, y_train, epochs=110, validation_data=(x_test, y_test), batch_size=200)  # Specify batch size here"
      ],
      "metadata": {
        "execution": {
          "iopub.status.busy": "2023-09-19T02:53:10.247565Z",
          "iopub.execute_input": "2023-09-19T02:53:10.248007Z"
        },
        "trusted": true,
        "colab": {
          "base_uri": "https://localhost:8080/"
        },
        "id": "R6l-EqqdZN3j",
        "outputId": "4e0980d1-8ae7-4c86-b378-b8fafbc59ec5"
      },
      "execution_count": null,
      "outputs": [
        {
          "output_type": "stream",
          "name": "stdout",
          "text": [
            "Epoch 1/110\n",
            "297/297 [==============================] - 432s 1s/step - loss: 0.2196 - accuracy: 0.9310 - val_loss: 0.0875 - val_accuracy: 0.9636\n",
            "Epoch 2/110\n",
            "297/297 [==============================] - 405s 1s/step - loss: 0.1211 - accuracy: 0.9641 - val_loss: 0.0660 - val_accuracy: 0.9737\n",
            "Epoch 3/110\n",
            "297/297 [==============================] - 404s 1s/step - loss: 0.0774 - accuracy: 0.9747 - val_loss: 0.0675 - val_accuracy: 0.9744\n",
            "Epoch 4/110\n",
            "297/297 [==============================] - 406s 1s/step - loss: 0.0738 - accuracy: 0.9742 - val_loss: 0.0602 - val_accuracy: 0.9764\n",
            "Epoch 5/110\n",
            "297/297 [==============================] - 405s 1s/step - loss: 0.0759 - accuracy: 0.9764 - val_loss: 0.0533 - val_accuracy: 0.9778\n",
            "Epoch 6/110\n",
            "297/297 [==============================] - 408s 1s/step - loss: 0.0726 - accuracy: 0.9761 - val_loss: 0.0500 - val_accuracy: 0.9798\n",
            "Epoch 7/110\n",
            "297/297 [==============================] - 407s 1s/step - loss: 0.0663 - accuracy: 0.9810 - val_loss: 0.0619 - val_accuracy: 0.9758\n",
            "Epoch 8/110\n",
            "297/297 [==============================] - 406s 1s/step - loss: 0.0635 - accuracy: 0.9789 - val_loss: 0.0774 - val_accuracy: 0.9737\n",
            "Epoch 9/110\n",
            "297/297 [==============================] - 405s 1s/step - loss: 0.0612 - accuracy: 0.9789 - val_loss: 0.0512 - val_accuracy: 0.9805\n",
            "Epoch 10/110\n",
            "297/297 [==============================] - 404s 1s/step - loss: 0.0479 - accuracy: 0.9838 - val_loss: 0.0658 - val_accuracy: 0.9832\n",
            "Epoch 11/110\n",
            "297/297 [==============================] - 403s 1s/step - loss: 0.0506 - accuracy: 0.9813 - val_loss: 0.0603 - val_accuracy: 0.9805\n",
            "Epoch 12/110\n",
            "297/297 [==============================] - 404s 1s/step - loss: 0.0403 - accuracy: 0.9840 - val_loss: 0.0488 - val_accuracy: 0.9825\n",
            "Epoch 13/110\n",
            "297/297 [==============================] - 402s 1s/step - loss: 0.0458 - accuracy: 0.9850 - val_loss: 0.0457 - val_accuracy: 0.9832\n",
            "Epoch 14/110\n",
            "297/297 [==============================] - 401s 1s/step - loss: 0.0403 - accuracy: 0.9857 - val_loss: 0.0463 - val_accuracy: 0.9805\n",
            "Epoch 15/110\n",
            "297/297 [==============================] - 403s 1s/step - loss: 0.0408 - accuracy: 0.9837 - val_loss: 0.0539 - val_accuracy: 0.9825\n",
            "Epoch 16/110\n",
            "297/297 [==============================] - 402s 1s/step - loss: 0.0424 - accuracy: 0.9847 - val_loss: 0.0644 - val_accuracy: 0.9805\n",
            "Epoch 17/110\n",
            "297/297 [==============================] - 403s 1s/step - loss: 0.0403 - accuracy: 0.9877 - val_loss: 0.0651 - val_accuracy: 0.9785\n",
            "Epoch 18/110\n",
            "297/297 [==============================] - 404s 1s/step - loss: 0.0432 - accuracy: 0.9850 - val_loss: 0.0871 - val_accuracy: 0.9805\n",
            "Epoch 19/110\n",
            "297/297 [==============================] - ETA: 0s - loss: 0.0437 - accuracy: 0.9862"
          ]
        }
      ]
    },
    {
      "cell_type": "code",
      "source": [
        "# Save the model\n",
        "model.save(\"drowsiness_inceptionv4.h5\")\n",
        "model.save(\"drowsiness_inceptionv4.model\")"
      ],
      "metadata": {
        "trusted": true,
        "id": "5DJ_DrKeZN3k"
      },
      "execution_count": null,
      "outputs": []
    },
    {
      "cell_type": "code",
      "source": [
        "# Plot accuracy and loss\n",
        "accuracy = hist.history['accuracy']\n",
        "val_accuracy = hist.history['val_accuracy']\n",
        "loss = hist.history['loss']\n",
        "val_loss = hist.history['val_loss']\n",
        "epochs = range(len(accuracy))\n",
        "\n",
        "plt.plot(epochs, accuracy, \"b\", label=\"training accuracy\")\n",
        "plt.plot(epochs, val_accuracy, \"r\", label=\"validation accuracy\")\n",
        "plt.xlabel('Epochs')\n",
        "plt.ylabel('Accuracy')\n",
        "plt.title('Training & Validation Accuracy')\n",
        "plt.legend()\n",
        "plt.show()"
      ],
      "metadata": {
        "trusted": true,
        "id": "YiZTtTkPZN3l"
      },
      "execution_count": null,
      "outputs": []
    },
    {
      "cell_type": "code",
      "source": [
        "plt.plot(epochs, loss, \"b\", label=\"training loss\")\n",
        "plt.plot(epochs, val_loss, \"r\", label=\"validation loss\")\n",
        "plt.xlabel('Epochs')\n",
        "plt.ylabel('Loss')\n",
        "plt.title('Training & Validation Loss')\n",
        "plt.legend()\n",
        "plt.show()\n"
      ],
      "metadata": {
        "trusted": true,
        "id": "who_wKETZN3m"
      },
      "execution_count": null,
      "outputs": []
    },
    {
      "cell_type": "code",
      "source": [
        "# Make predictions and evaluate the model\n",
        "y_true = np.argmax(y_test, axis=1)\n",
        "y_pred = model.predict(x_test)\n",
        "y_pred_classes = np.argmax(y_pred, axis=1)\n"
      ],
      "metadata": {
        "trusted": true,
        "id": "PAwjZulcZN3m"
      },
      "execution_count": null,
      "outputs": []
    },
    {
      "cell_type": "code",
      "source": [
        "# Confusion Matrix\n",
        "confusion_mtx = confusion_matrix(y_true, y_pred_classes)\n",
        "\n",
        "# Plot Confusion Matrix\n",
        "plt.figure(figsize=(8, 6))\n",
        "sns.heatmap(confusion_mtx, annot=True, fmt='d', cmap='Blues')\n",
        "plt.xlabel('Predicted')\n",
        "plt.ylabel('True')\n",
        "plt.show()"
      ],
      "metadata": {
        "trusted": true,
        "id": "b5N-6q5xZN3n"
      },
      "execution_count": null,
      "outputs": []
    },
    {
      "cell_type": "code",
      "source": [
        "# Print the confusion matrix\n",
        "print(\"Confusion Matrix:\\n\", confusion_mtx)"
      ],
      "metadata": {
        "trusted": true,
        "id": "4kiuRIeXZN3o"
      },
      "execution_count": null,
      "outputs": []
    },
    {
      "cell_type": "code",
      "source": [
        "# Accuracy Score\n",
        "accuracy = np.sum(y_true == y_pred_classes) / len(y_true)\n",
        "print(\"Accuracy:\", accuracy)\n"
      ],
      "metadata": {
        "trusted": true,
        "id": "sHE_yzSdZN3o"
      },
      "execution_count": null,
      "outputs": []
    },
    {
      "cell_type": "code",
      "source": [
        "# Classification Report\n",
        "class_report = classification_report(y_true, y_pred_classes, target_names=labels)\n",
        "print(\"Classification Report:\\n\", class_report)"
      ],
      "metadata": {
        "trusted": true,
        "id": "s6fpw2uIZN3p"
      },
      "execution_count": null,
      "outputs": []
    },
    {
      "cell_type": "code",
      "source": [
        "# Compute ROC curves and AUC for each class\n",
        "n_classes = 4\n",
        "fpr = dict()\n",
        "tpr = dict()\n",
        "\n",
        "roc_auc = dict()\n",
        "\n",
        "for i in range(n_classes):\n",
        "    fpr[i], tpr[i], _ = roc_curve(y_test[:, i], y_pred[:, i])\n",
        "    roc_auc[i] = auc(fpr[i], tpr[i])\n",
        "\n",
        "# Plot the ROC curves for each class\n",
        "plt.figure(figsize=(8, 6))\n",
        "for i in range(n_classes):\n",
        "    plt.plot(fpr[i], tpr[i], lw=2, label='Class {} (AUC = {:.2f})'.format(i, roc_auc[i]))\n",
        "\n",
        "plt.plot([0, 1], [0, 1], color='navy', lw=2, linestyle='--')\n",
        "plt.xlim([0.0, 1.0])\n",
        "plt.ylim([0.0, 1.05])\n",
        "plt.xlabel('False Positive Rate')\n",
        "plt.ylabel('True Positive Rate')\n",
        "plt.title('Receiver Operating Characteristic (ROC) Curve')\n",
        "plt.legend(loc='lower right')\n",
        "plt.show()\n"
      ],
      "metadata": {
        "trusted": true,
        "id": "TxM5S9lUZN3p"
      },
      "execution_count": null,
      "outputs": []
    }
  ]
}