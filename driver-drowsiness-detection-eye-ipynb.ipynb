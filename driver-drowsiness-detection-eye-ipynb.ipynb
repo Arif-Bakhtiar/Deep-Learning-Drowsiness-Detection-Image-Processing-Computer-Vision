{
 "cells": [
  {
   "cell_type": "markdown",
   "id": "f9045e79",
   "metadata": {
    "papermill": {
     "duration": 0.028121,
     "end_time": "2023-04-04T08:43:48.787059",
     "exception": false,
     "start_time": "2023-04-04T08:43:48.758938",
     "status": "completed"
    },
    "tags": []
   },
   "source": [
    "# **Drowsiness Detection System**"
   ]
  },
  {
   "cell_type": "markdown",
   "id": "e50a91ca",
   "metadata": {
    "papermill": {
     "duration": 0.026589,
     "end_time": "2023-04-04T08:43:48.841493",
     "exception": false,
     "start_time": "2023-04-04T08:43:48.814904",
     "status": "completed"
    },
    "tags": []
   },
   "source": [
    "**Importing Required Libraries**"
   ]
  },
  {
   "cell_type": "code",
   "execution_count": 1,
   "id": "17af23af",
   "metadata": {
    "execution": {
     "iopub.execute_input": "2023-04-04T08:43:48.906470Z",
     "iopub.status.busy": "2023-04-04T08:43:48.905745Z",
     "iopub.status.idle": "2023-04-04T08:43:54.948495Z",
     "shell.execute_reply": "2023-04-04T08:43:54.947875Z",
     "shell.execute_reply.started": "2023-04-04T08:28:58.990798Z"
    },
    "id": "K54u2lA5siJv",
    "papermill": {
     "duration": 6.079818,
     "end_time": "2023-04-04T08:43:54.948655",
     "exception": false,
     "start_time": "2023-04-04T08:43:48.868837",
     "status": "completed"
    },
    "tags": []
   },
   "outputs": [],
   "source": [
    "import numpy as np\n",
    "import pandas as pd\n",
    "import tensorflow as tf\n",
    "tf.random.set_seed(42)\n",
    "import matplotlib.pyplot as plt\n",
    "from glob import glob\n",
    "import cv2\n",
    "import os\n",
    "import shutil\n",
    "import random\n",
    "import math\n",
    "import tensorflow_datasets as tfds"
   ]
  },
  {
   "cell_type": "markdown",
   "id": "44587558",
   "metadata": {
    "papermill": {
     "duration": 0.026121,
     "end_time": "2023-04-04T08:43:55.001924",
     "exception": false,
     "start_time": "2023-04-04T08:43:54.975803",
     "status": "completed"
    },
    "tags": []
   },
   "source": [
    "**Checking TensorFlow Version**"
   ]
  },
  {
   "cell_type": "code",
   "execution_count": 2,
   "id": "5854808f",
   "metadata": {
    "execution": {
     "iopub.execute_input": "2023-04-04T08:43:55.062877Z",
     "iopub.status.busy": "2023-04-04T08:43:55.062038Z",
     "iopub.status.idle": "2023-04-04T08:43:55.065393Z",
     "shell.execute_reply": "2023-04-04T08:43:55.065832Z",
     "shell.execute_reply.started": "2023-04-04T08:29:05.019220Z"
    },
    "papermill": {
     "duration": 0.036428,
     "end_time": "2023-04-04T08:43:55.065984",
     "exception": false,
     "start_time": "2023-04-04T08:43:55.029556",
     "status": "completed"
    },
    "tags": []
   },
   "outputs": [
    {
     "name": "stdout",
     "output_type": "stream",
     "text": [
      "2.6.0\n"
     ]
    }
   ],
   "source": [
    "from tensorflow.python import keras\n",
    "print(keras.__version__)"
   ]
  },
  {
   "cell_type": "markdown",
   "id": "692f977e",
   "metadata": {
    "papermill": {
     "duration": 0.026823,
     "end_time": "2023-04-04T08:43:55.120732",
     "exception": false,
     "start_time": "2023-04-04T08:43:55.093909",
     "status": "completed"
    },
    "tags": []
   },
   "source": [
    "**Creating a Folder to Store TFRecords**"
   ]
  },
  {
   "cell_type": "code",
   "execution_count": 3,
   "id": "b4b3680b",
   "metadata": {
    "execution": {
     "iopub.execute_input": "2023-04-04T08:43:55.181297Z",
     "iopub.status.busy": "2023-04-04T08:43:55.180193Z",
     "iopub.status.idle": "2023-04-04T08:43:56.142563Z",
     "shell.execute_reply": "2023-04-04T08:43:56.141828Z",
     "shell.execute_reply.started": "2023-04-04T08:29:05.027723Z"
    },
    "id": "gVIuTxtdtzhl",
    "papermill": {
     "duration": 0.99434,
     "end_time": "2023-04-04T08:43:56.142731",
     "exception": false,
     "start_time": "2023-04-04T08:43:55.148391",
     "status": "completed"
    },
    "tags": []
   },
   "outputs": [],
   "source": [
    "!mkdir images"
   ]
  },
  {
   "cell_type": "markdown",
   "id": "2ebd0f05",
   "metadata": {
    "papermill": {
     "duration": 0.029559,
     "end_time": "2023-04-04T08:43:56.200971",
     "exception": false,
     "start_time": "2023-04-04T08:43:56.171412",
     "status": "completed"
    },
    "tags": []
   },
   "source": [
    "**Function to Convert Arrays to Binary Stream**"
   ]
  },
  {
   "cell_type": "code",
   "execution_count": 4,
   "id": "fb3b88d9",
   "metadata": {
    "execution": {
     "iopub.execute_input": "2023-04-04T08:43:56.269161Z",
     "iopub.status.busy": "2023-04-04T08:43:56.268180Z",
     "iopub.status.idle": "2023-04-04T08:43:56.270395Z",
     "shell.execute_reply": "2023-04-04T08:43:56.270955Z",
     "shell.execute_reply.started": "2023-04-04T08:29:06.001185Z"
    },
    "id": "R8RMZzelsP0f",
    "papermill": {
     "duration": 0.039521,
     "end_time": "2023-04-04T08:43:56.271125",
     "exception": false,
     "start_time": "2023-04-04T08:43:56.231604",
     "status": "completed"
    },
    "tags": []
   },
   "outputs": [],
   "source": [
    "def _bytes_feature(value):\n",
    "    if isinstance(value, type(tf.constant(0))): \n",
    "        value = value.numpy() \n",
    "    return tf.train.Feature(bytes_list=tf.train.BytesList(value=[value]))"
   ]
  },
  {
   "cell_type": "markdown",
   "id": "08835c5a",
   "metadata": {
    "papermill": {
     "duration": 0.031384,
     "end_time": "2023-04-04T08:43:56.332508",
     "exception": false,
     "start_time": "2023-04-04T08:43:56.301124",
     "status": "completed"
    },
    "tags": []
   },
   "source": [
    "**Function to Convert A Sample to Binary Stream**"
   ]
  },
  {
   "cell_type": "code",
   "execution_count": 5,
   "id": "b6fbe4d8",
   "metadata": {
    "execution": {
     "iopub.execute_input": "2023-04-04T08:43:56.401748Z",
     "iopub.status.busy": "2023-04-04T08:43:56.400492Z",
     "iopub.status.idle": "2023-04-04T08:43:56.402546Z",
     "shell.execute_reply": "2023-04-04T08:43:56.403067Z",
     "shell.execute_reply.started": "2023-04-04T08:29:06.009142Z"
    },
    "id": "lYKZOvkAsQ77",
    "papermill": {
     "duration": 0.039533,
     "end_time": "2023-04-04T08:43:56.403241",
     "exception": false,
     "start_time": "2023-04-04T08:43:56.363708",
     "status": "completed"
    },
    "tags": []
   },
   "outputs": [],
   "source": [
    "def serialize_example(image,label):\n",
    "    feature = {\n",
    "        'image':tf.train.Feature(bytes_list=tf.train.BytesList(value=[image])),\n",
    "        'label':_bytes_feature(tf.io.serialize_tensor(label))\n",
    "    }\n",
    "    example = tf.train.Example(features=tf.train.Features(feature=feature))\n",
    "    return example.SerializeToString()\n"
   ]
  },
  {
   "cell_type": "markdown",
   "id": "042937de",
   "metadata": {
    "papermill": {
     "duration": 0.030101,
     "end_time": "2023-04-04T08:43:56.464176",
     "exception": false,
     "start_time": "2023-04-04T08:43:56.434075",
     "status": "completed"
    },
    "tags": []
   },
   "source": [
    "**Function to Create TF Records from Binary Stream Objects**"
   ]
  },
  {
   "cell_type": "code",
   "execution_count": 6,
   "id": "e27c67f0",
   "metadata": {
    "execution": {
     "iopub.execute_input": "2023-04-04T08:43:56.534061Z",
     "iopub.status.busy": "2023-04-04T08:43:56.532960Z",
     "iopub.status.idle": "2023-04-04T08:43:56.535245Z",
     "shell.execute_reply": "2023-04-04T08:43:56.535801Z",
     "shell.execute_reply.started": "2023-04-04T08:29:09.411115Z"
    },
    "id": "Hwc-pBLNsdMg",
    "papermill": {
     "duration": 0.041054,
     "end_time": "2023-04-04T08:43:56.535976",
     "exception": false,
     "start_time": "2023-04-04T08:43:56.494922",
     "status": "completed"
    },
    "tags": []
   },
   "outputs": [],
   "source": [
    "def tf_writer(op_path,filelist):\n",
    "    classes=['Closed','Open']\n",
    "    with tf.io.TFRecordWriter(op_path,options=tf.io.TFRecordOptions(compression_type=\"GZIP\")) as writer:\n",
    "                random.shuffle(filelist)\n",
    "                for fn in filelist:\n",
    "                    label = np.array([0,0],dtype='float64')\n",
    "                    img = open(fn,'rb').read()\n",
    "                    lab = fn.split('/')[-2]\n",
    "                    lab = classes.index(lab)\n",
    "                    label[lab] = 1.0\n",
    "                    tf_example = serialize_example(img,label)\n",
    "                    writer.write(tf_example)"
   ]
  },
  {
   "cell_type": "markdown",
   "id": "a14f756a",
   "metadata": {
    "papermill": {
     "duration": 0.030915,
     "end_time": "2023-04-04T08:43:56.597114",
     "exception": false,
     "start_time": "2023-04-04T08:43:56.566199",
     "status": "completed"
    },
    "tags": []
   },
   "source": [
    "**Creating records path**"
   ]
  },
  {
   "cell_type": "code",
   "execution_count": 7,
   "id": "64791b5a",
   "metadata": {
    "execution": {
     "iopub.execute_input": "2023-04-04T08:43:56.666771Z",
     "iopub.status.busy": "2023-04-04T08:43:56.665767Z",
     "iopub.status.idle": "2023-04-04T08:43:56.667797Z",
     "shell.execute_reply": "2023-04-04T08:43:56.668400Z",
     "shell.execute_reply.started": "2023-04-04T08:29:34.469947Z"
    },
    "papermill": {
     "duration": 0.040665,
     "end_time": "2023-04-04T08:43:56.668562",
     "exception": false,
     "start_time": "2023-04-04T08:43:56.627897",
     "status": "completed"
    },
    "tags": []
   },
   "outputs": [],
   "source": [
    "def create_records(path,op):\n",
    "    classes=['Closed','Open']\n",
    "    files_list = glob(path+'/Closed/*')\n",
    "    files_list1 = glob(path+'/Open/*')\n",
    "    com_list = files_list + files_list1\n",
    "    tf_writer(op,com_list)\n",
    "def create_records_test_val(path):\n",
    "    classes=[\"Closed\",]\n",
    "    files_list = glob(path+'/Closed/*')\n",
    "    files_list1 = glob(path+'/Open/*')\n",
    "    com_list = files_list + files_list1\n",
    "    tf_writer(\"test_rec\",com_list[:len(com_list)//2])\n",
    "    tf_writer(\"val_rec\",com_list[len(com_list)//2:])\n",
    "       "
   ]
  },
  {
   "cell_type": "markdown",
   "id": "66cf0b58",
   "metadata": {
    "papermill": {
     "duration": 0.031376,
     "end_time": "2023-04-04T08:43:56.730553",
     "exception": false,
     "start_time": "2023-04-04T08:43:56.699177",
     "status": "completed"
    },
    "tags": []
   },
   "source": [
    "**Calling all the above Functions**"
   ]
  },
  {
   "cell_type": "code",
   "execution_count": 8,
   "id": "79ee662d",
   "metadata": {
    "execution": {
     "iopub.execute_input": "2023-04-04T08:43:56.796537Z",
     "iopub.status.busy": "2023-04-04T08:43:56.795832Z",
     "iopub.status.idle": "2023-04-04T08:44:05.930863Z",
     "shell.execute_reply": "2023-04-04T08:44:05.930264Z",
     "shell.execute_reply.started": "2023-04-04T08:29:35.685005Z"
    },
    "id": "kv5FtWe6sSwJ",
    "papermill": {
     "duration": 9.169838,
     "end_time": "2023-04-04T08:44:05.931050",
     "exception": false,
     "start_time": "2023-04-04T08:43:56.761212",
     "status": "completed"
    },
    "tags": []
   },
   "outputs": [],
   "source": [
    "create_records(\"/kaggle/input/yawn-eye-dataset-new/dataset_new/train\",\"train_rec\")"
   ]
  },
  {
   "cell_type": "code",
   "execution_count": 9,
   "id": "60d8e864",
   "metadata": {
    "execution": {
     "iopub.execute_input": "2023-04-04T08:44:05.990308Z",
     "iopub.status.busy": "2023-04-04T08:44:05.989719Z",
     "iopub.status.idle": "2023-04-04T08:44:07.105957Z",
     "shell.execute_reply": "2023-04-04T08:44:07.105418Z",
     "shell.execute_reply.started": "2023-04-04T08:29:49.757805Z"
    },
    "papermill": {
     "duration": 1.147555,
     "end_time": "2023-04-04T08:44:07.106098",
     "exception": false,
     "start_time": "2023-04-04T08:44:05.958543",
     "status": "completed"
    },
    "tags": []
   },
   "outputs": [],
   "source": [
    "create_records_test_val('/kaggle/input/yawn-eye-dataset-new/dataset_new/test')"
   ]
  },
  {
   "cell_type": "markdown",
   "id": "93d6915c",
   "metadata": {
    "papermill": {
     "duration": 0.027096,
     "end_time": "2023-04-04T08:44:07.160716",
     "exception": false,
     "start_time": "2023-04-04T08:44:07.133620",
     "status": "completed"
    },
    "tags": []
   },
   "source": [
    "**Below Functions create TF Dataset from TFRecords effeciently**"
   ]
  },
  {
   "cell_type": "code",
   "execution_count": 10,
   "id": "7432cc00",
   "metadata": {
    "execution": {
     "iopub.execute_input": "2023-04-04T08:44:07.224013Z",
     "iopub.status.busy": "2023-04-04T08:44:07.223266Z",
     "iopub.status.idle": "2023-04-04T08:44:07.226111Z",
     "shell.execute_reply": "2023-04-04T08:44:07.225653Z",
     "shell.execute_reply.started": "2023-04-04T08:32:39.036303Z"
    },
    "id": "ux9398VnuLfW",
    "papermill": {
     "duration": 0.038486,
     "end_time": "2023-04-04T08:44:07.226234",
     "exception": false,
     "start_time": "2023-04-04T08:44:07.187748",
     "status": "completed"
    },
    "tags": []
   },
   "outputs": [],
   "source": [
    "def parse_image(example):\n",
    "    feature = {'image':tf.io.FixedLenFeature([],tf.string),\n",
    "              'label':tf.io.FixedLenFeature([],tf.string)}\n",
    "    features = tf.io.parse_single_example(example,feature)\n",
    "    image = tf.io.decode_jpeg(features['image'],channels = 3)\n",
    "    image = tf.image.resize(image,[256,256])\n",
    "    label = tf.io.parse_tensor(features['label'], out_type=tf.float64)\n",
    "    label = tf.reshape(label,shape=(2,))\n",
    "    return image,label\n",
    "def read_dataset(filename,batchs):\n",
    "    data = tf.data.TFRecordDataset(filename,compression_type = \"GZIP\")\n",
    "    ds = configure(data)\n",
    "    return ds\n",
    "    \n",
    "def configure(data):\n",
    "    data = data.map(parse_image,num_parallel_calls = tf.data.experimental.AUTOTUNE)\n",
    "    data = data.shuffle(500)\n",
    "    data = data.batch(32,drop_remainder = True)\n",
    "    data = data.prefetch(buffer_size = tf.data.experimental.AUTOTUNE)\n",
    "    return data"
   ]
  },
  {
   "cell_type": "markdown",
   "id": "2d91239b",
   "metadata": {
    "papermill": {
     "duration": 0.027064,
     "end_time": "2023-04-04T08:44:07.279923",
     "exception": false,
     "start_time": "2023-04-04T08:44:07.252859",
     "status": "completed"
    },
    "tags": []
   },
   "source": [
    "**Calling the above functions to Create a full TF dataset**"
   ]
  },
  {
   "cell_type": "code",
   "execution_count": 11,
   "id": "06657b31",
   "metadata": {
    "execution": {
     "iopub.execute_input": "2023-04-04T08:44:07.344539Z",
     "iopub.status.busy": "2023-04-04T08:44:07.343644Z",
     "iopub.status.idle": "2023-04-04T08:44:07.539846Z",
     "shell.execute_reply": "2023-04-04T08:44:07.540348Z",
     "shell.execute_reply.started": "2023-04-04T08:32:40.840112Z"
    },
    "id": "8HA7V5SHuYEZ",
    "papermill": {
     "duration": 0.23342,
     "end_time": "2023-04-04T08:44:07.540511",
     "exception": false,
     "start_time": "2023-04-04T08:44:07.307091",
     "status": "completed"
    },
    "tags": []
   },
   "outputs": [],
   "source": [
    "def use_records():\n",
    "    train = read_dataset(\"/kaggle/working/train_rec\",32)\n",
    "    val = read_dataset(\"/kaggle/working/val_rec\",32)\n",
    "    test = read_dataset(\"/kaggle/working/test_rec\",32)\n",
    "    return train,val,test\n",
    "train_ds,val_ds,test_ds = use_records()  "
   ]
  },
  {
   "cell_type": "code",
   "execution_count": 12,
   "id": "d08cb97e",
   "metadata": {
    "execution": {
     "iopub.execute_input": "2023-04-04T08:44:07.605610Z",
     "iopub.status.busy": "2023-04-04T08:44:07.604026Z",
     "iopub.status.idle": "2023-04-04T08:44:07.608299Z",
     "shell.execute_reply": "2023-04-04T08:44:07.607833Z",
     "shell.execute_reply.started": "2023-04-04T08:32:42.786665Z"
    },
    "papermill": {
     "duration": 0.040051,
     "end_time": "2023-04-04T08:44:07.608421",
     "exception": false,
     "start_time": "2023-04-04T08:44:07.568370",
     "status": "completed"
    },
    "tags": []
   },
   "outputs": [
    {
     "data": {
      "text/plain": [
       "(<PrefetchDataset shapes: ((32, 256, 256, 3), (32, 2)), types: (tf.float32, tf.float64)>,\n",
       " <PrefetchDataset shapes: ((32, 256, 256, 3), (32, 2)), types: (tf.float32, tf.float64)>,\n",
       " <PrefetchDataset shapes: ((32, 256, 256, 3), (32, 2)), types: (tf.float32, tf.float64)>)"
      ]
     },
     "execution_count": 12,
     "metadata": {},
     "output_type": "execute_result"
    }
   ],
   "source": [
    "train_ds,val_ds,test_ds"
   ]
  },
  {
   "cell_type": "markdown",
   "id": "0c2fba89",
   "metadata": {
    "papermill": {
     "duration": 0.030676,
     "end_time": "2023-04-04T08:44:07.666196",
     "exception": false,
     "start_time": "2023-04-04T08:44:07.635520",
     "status": "completed"
    },
    "tags": []
   },
   "source": [
    "**Checking the shape of a batch in our TF Dataset**"
   ]
  },
  {
   "cell_type": "code",
   "execution_count": 13,
   "id": "39979cb1",
   "metadata": {
    "execution": {
     "iopub.execute_input": "2023-04-04T08:44:07.729251Z",
     "iopub.status.busy": "2023-04-04T08:44:07.728421Z",
     "iopub.status.idle": "2023-04-04T08:44:08.800315Z",
     "shell.execute_reply": "2023-04-04T08:44:08.800738Z",
     "shell.execute_reply.started": "2023-04-04T08:32:44.184765Z"
    },
    "id": "gOG3nEdjumwm",
    "outputId": "ae971182-377e-4d68-a516-f3b0f457d1aa",
    "papermill": {
     "duration": 1.106752,
     "end_time": "2023-04-04T08:44:08.800922",
     "exception": false,
     "start_time": "2023-04-04T08:44:07.694170",
     "status": "completed"
    },
    "tags": []
   },
   "outputs": [
    {
     "name": "stdout",
     "output_type": "stream",
     "text": [
      "Image shape:  (32, 256, 256, 3)\n",
      "Label:  (32, 2)\n"
     ]
    }
   ],
   "source": [
    "for image, label in train_ds.take(1):\n",
    "  print(\"Image shape: \", image.numpy().shape)\n",
    "  print(\"Label: \", label.numpy().shape)"
   ]
  },
  {
   "cell_type": "markdown",
   "id": "dcf1f2bb",
   "metadata": {
    "papermill": {
     "duration": 0.027218,
     "end_time": "2023-04-04T08:44:08.855465",
     "exception": false,
     "start_time": "2023-04-04T08:44:08.828247",
     "status": "completed"
    },
    "tags": []
   },
   "source": [
    "**Visualising a Sample**"
   ]
  },
  {
   "cell_type": "code",
   "execution_count": 14,
   "id": "206031aa",
   "metadata": {
    "execution": {
     "iopub.execute_input": "2023-04-04T08:44:08.916019Z",
     "iopub.status.busy": "2023-04-04T08:44:08.915125Z",
     "iopub.status.idle": "2023-04-04T08:44:10.167832Z",
     "shell.execute_reply": "2023-04-04T08:44:10.168304Z",
     "shell.execute_reply.started": "2023-04-04T08:34:06.039112Z"
    },
    "id": "Kih3sa7MvrEx",
    "outputId": "3472a97c-d503-4249-8d3c-67769b1be6ea",
    "papermill": {
     "duration": 1.285817,
     "end_time": "2023-04-04T08:44:10.168461",
     "exception": false,
     "start_time": "2023-04-04T08:44:08.882644",
     "status": "completed"
    },
    "tags": []
   },
   "outputs": [
    {
     "name": "stdout",
     "output_type": "stream",
     "text": [
      "Label:  [0. 1.]\n"
     ]
    },
    {
     "data": {
      "image/png": "[encoded data removed]",
      "text/plain": [
       "<Figure size 432x288 with 1 Axes>"
      ]
     },
     "metadata": {
      "needs_background": "light"
     },
     "output_type": "display_data"
    }
   ],
   "source": [
    "#Label 1 , 0 => Closed & Label 0 , 1 => Open\n",
    "for image, label in train_ds.take(1):\n",
    "  print(\"Label: \", label.numpy()[0])\n",
    "  plt.imshow(image.numpy()[0].astype(\"uint8\"))"
   ]
  },
  {
   "cell_type": "markdown",
   "id": "09481e64",
   "metadata": {
    "papermill": {
     "duration": 0.030005,
     "end_time": "2023-04-04T08:44:10.228491",
     "exception": false,
     "start_time": "2023-04-04T08:44:10.198486",
     "status": "completed"
    },
    "tags": []
   },
   "source": [
    "**Creating CallBacks to choose the choose the epoch's weight that gives the best score**"
   ]
  },
  {
   "cell_type": "code",
   "execution_count": 15,
   "id": "9a1c70f9",
   "metadata": {
    "execution": {
     "iopub.execute_input": "2023-04-04T08:44:10.292283Z",
     "iopub.status.busy": "2023-04-04T08:44:10.291465Z",
     "iopub.status.idle": "2023-04-04T08:44:11.066777Z",
     "shell.execute_reply": "2023-04-04T08:44:11.066271Z",
     "shell.execute_reply.started": "2023-04-04T08:34:12.773792Z"
    },
    "id": "Fd7Y0jTNxP_o",
    "papermill": {
     "duration": 0.808984,
     "end_time": "2023-04-04T08:44:11.066933",
     "exception": false,
     "start_time": "2023-04-04T08:44:10.257949",
     "status": "completed"
    },
    "tags": []
   },
   "outputs": [],
   "source": [
    "cb = [tf.keras.callbacks.ModelCheckpoint(\"./first_model.h5\",monitor='val_accuracy',save_best_only=True,mode='max')]"
   ]
  },
  {
   "cell_type": "markdown",
   "id": "e65adf6b",
   "metadata": {
    "papermill": {
     "duration": 0.032483,
     "end_time": "2023-04-04T08:44:11.130309",
     "exception": false,
     "start_time": "2023-04-04T08:44:11.097826",
     "status": "completed"
    },
    "tags": []
   },
   "source": [
    "**Building CNN Architecture**"
   ]
  },
  {
   "cell_type": "code",
   "execution_count": 16,
   "id": "32ee0b7b",
   "metadata": {
    "execution": {
     "iopub.execute_input": "2023-04-04T08:44:11.197089Z",
     "iopub.status.busy": "2023-04-04T08:44:11.196483Z",
     "iopub.status.idle": "2023-04-04T08:44:11.200365Z",
     "shell.execute_reply": "2023-04-04T08:44:11.199921Z",
     "shell.execute_reply.started": "2023-04-04T08:34:16.700324Z"
    },
    "id": "UFOobSjew6ET",
    "papermill": {
     "duration": 0.041035,
     "end_time": "2023-04-04T08:44:11.200490",
     "exception": false,
     "start_time": "2023-04-04T08:44:11.159455",
     "status": "completed"
    },
    "tags": []
   },
   "outputs": [],
   "source": [
    "def build():\n",
    "  model = tf.keras.Sequential([\n",
    "  tf.keras.layers.Resizing(256,256),\n",
    "  tf.keras.layers.Rescaling(1./255),\n",
    "  tf.keras.layers.RandomFlip(mode=\"horizontal\"),\n",
    "  tf.keras.layers.RandomRotation(0.4, fill_mode='reflect',interpolation='bilinear'),\n",
    "  tf.keras.layers.Conv2D(32, 3, activation='relu'),\n",
    "  tf.keras.layers.MaxPooling2D(),\n",
    "  tf.keras.layers.Conv2D(32, 3, activation='relu'),\n",
    "  tf.keras.layers.MaxPooling2D(),\n",
    "  tf.keras.layers.Conv2D(32, 3, activation='relu'),\n",
    "  tf.keras.layers.MaxPooling2D(),\n",
    "  tf.keras.layers.Flatten(),\n",
    "  tf.keras.layers.Dense(128, activation='relu'),\n",
    "  tf.keras.layers.Dense(2,activation='softmax')\n",
    " ])\n",
    "  model.compile(\n",
    "  optimizer='adam',\n",
    "  loss=tf.losses.CategoricalCrossentropy(),\n",
    "  metrics=['accuracy'])\n",
    "  return model  "
   ]
  },
  {
   "cell_type": "markdown",
   "id": "a6e06679",
   "metadata": {
    "papermill": {
     "duration": 0.028968,
     "end_time": "2023-04-04T08:44:11.259157",
     "exception": false,
     "start_time": "2023-04-04T08:44:11.230189",
     "status": "completed"
    },
    "tags": []
   },
   "source": [
    "**Calling CNN Architecture Function**"
   ]
  },
  {
   "cell_type": "code",
   "execution_count": 17,
   "id": "d955016b",
   "metadata": {
    "execution": {
     "iopub.execute_input": "2023-04-04T08:44:11.322745Z",
     "iopub.status.busy": "2023-04-04T08:44:11.322025Z",
     "iopub.status.idle": "2023-04-04T08:44:11.365922Z",
     "shell.execute_reply": "2023-04-04T08:44:11.365277Z",
     "shell.execute_reply.started": "2023-04-04T08:34:19.781675Z"
    },
    "id": "HFULbl2zx8wI",
    "papermill": {
     "duration": 0.077219,
     "end_time": "2023-04-04T08:44:11.366070",
     "exception": false,
     "start_time": "2023-04-04T08:44:11.288851",
     "status": "completed"
    },
    "tags": []
   },
   "outputs": [],
   "source": [
    "model = build()"
   ]
  },
  {
   "cell_type": "markdown",
   "id": "18a2b72a",
   "metadata": {
    "papermill": {
     "duration": 0.029469,
     "end_time": "2023-04-04T08:44:11.425137",
     "exception": false,
     "start_time": "2023-04-04T08:44:11.395668",
     "status": "completed"
    },
    "tags": []
   },
   "source": [
    "**Training our own scratch-built CNN**"
   ]
  },
  {
   "cell_type": "code",
   "execution_count": 18,
   "id": "988a92e2",
   "metadata": {
    "execution": {
     "iopub.execute_input": "2023-04-04T08:44:11.490151Z",
     "iopub.status.busy": "2023-04-04T08:44:11.489429Z",
     "iopub.status.idle": "2023-04-04T08:44:58.655544Z",
     "shell.execute_reply": "2023-04-04T08:44:58.655047Z"
    },
    "id": "Q_JEi6OnxUh1",
    "outputId": "e6cd29b9-8d53-478b-95d7-e529db4f312a",
    "papermill": {
     "duration": 47.200298,
     "end_time": "2023-04-04T08:44:58.655677",
     "exception": false,
     "start_time": "2023-04-04T08:44:11.455379",
     "status": "completed"
    },
    "tags": []
   },
   "outputs": [
    {
     "name": "stdout",
     "output_type": "stream",
     "text": [
      "Epoch 1/10\n",
      "38/38 [==============================] - 11s 60ms/step - loss: 0.5096 - accuracy: 0.7722 - val_loss: 0.1159 - val_accuracy: 0.9688\n",
      "Epoch 2/10\n",
      "38/38 [==============================] - 4s 57ms/step - loss: 0.2324 - accuracy: 0.9087 - val_loss: 0.0621 - val_accuracy: 0.9792\n",
      "Epoch 3/10\n",
      "38/38 [==============================] - 3s 57ms/step - loss: 0.2531 - accuracy: 0.8956 - val_loss: 0.1516 - val_accuracy: 0.9479\n",
      "Epoch 4/10\n",
      "38/38 [==============================] - 3s 56ms/step - loss: 0.2240 - accuracy: 0.9137 - val_loss: 0.1118 - val_accuracy: 0.9479\n",
      "Epoch 5/10\n",
      "38/38 [==============================] - 3s 57ms/step - loss: 0.2059 - accuracy: 0.9120 - val_loss: 0.1591 - val_accuracy: 0.9375\n",
      "Epoch 6/10\n",
      "38/38 [==============================] - 3s 57ms/step - loss: 0.2056 - accuracy: 0.9128 - val_loss: 0.0648 - val_accuracy: 0.9792\n",
      "Epoch 7/10\n",
      "38/38 [==============================] - 3s 59ms/step - loss: 0.1883 - accuracy: 0.9260 - val_loss: 0.1191 - val_accuracy: 0.9479\n",
      "Epoch 8/10\n",
      "38/38 [==============================] - 3s 56ms/step - loss: 0.2214 - accuracy: 0.9194 - val_loss: 0.1820 - val_accuracy: 0.9271\n",
      "Epoch 9/10\n",
      "38/38 [==============================] - 3s 66ms/step - loss: 0.1896 - accuracy: 0.9194 - val_loss: 0.1642 - val_accuracy: 0.9375\n",
      "Epoch 10/10\n",
      "38/38 [==============================] - 3s 56ms/step - loss: 0.1970 - accuracy: 0.9227 - val_loss: 0.1790 - val_accuracy: 0.9479\n"
     ]
    }
   ],
   "source": [
    "deep_model = model.fit(train_ds,epochs=10,callbacks=cb,validation_data = val_ds)"
   ]
  },
  {
   "cell_type": "markdown",
   "id": "43da33b5",
   "metadata": {
    "papermill": {
     "duration": 0.119989,
     "end_time": "2023-04-04T08:44:58.896494",
     "exception": false,
     "start_time": "2023-04-04T08:44:58.776505",
     "status": "completed"
    },
    "tags": []
   },
   "source": [
    "**The results are below**"
   ]
  },
  {
   "cell_type": "code",
   "execution_count": 19,
   "id": "7f9d61d6",
   "metadata": {
    "execution": {
     "iopub.execute_input": "2023-04-04T08:44:59.148402Z",
     "iopub.status.busy": "2023-04-04T08:44:59.143070Z",
     "iopub.status.idle": "2023-04-04T08:44:59.152410Z",
     "shell.execute_reply": "2023-04-04T08:44:59.152831Z",
     "shell.execute_reply.started": "2023-04-04T08:39:19.810020Z"
    },
    "papermill": {
     "duration": 0.137052,
     "end_time": "2023-04-04T08:44:59.153001",
     "exception": false,
     "start_time": "2023-04-04T08:44:59.015949",
     "status": "completed"
    },
    "tags": []
   },
   "outputs": [
    {
     "name": "stdout",
     "output_type": "stream",
     "text": [
      "Model: \"sequential\"\n",
      "_________________________________________________________________\n",
      "Layer (type)                 Output Shape              Param #   \n",
      "=================================================================\n",
      "resizing (Resizing)          (32, 256, 256, 3)         0         \n",
      "_________________________________________________________________\n",
      "rescaling (Rescaling)        (32, 256, 256, 3)         0         \n",
      "_________________________________________________________________\n",
      "random_flip (RandomFlip)     (32, 256, 256, 3)         0         \n",
      "_________________________________________________________________\n",
      "random_rotation (RandomRotat (32, 256, 256, 3)         0         \n",
      "_________________________________________________________________\n",
      "conv2d (Conv2D)              (32, 254, 254, 32)        896       \n",
      "_________________________________________________________________\n",
      "max_pooling2d (MaxPooling2D) (32, 127, 127, 32)        0         \n",
      "_________________________________________________________________\n",
      "conv2d_1 (Conv2D)            (32, 125, 125, 32)        9248      \n",
      "_________________________________________________________________\n",
      "max_pooling2d_1 (MaxPooling2 (32, 62, 62, 32)          0         \n",
      "_________________________________________________________________\n",
      "conv2d_2 (Conv2D)            (32, 60, 60, 32)          9248      \n",
      "_________________________________________________________________\n",
      "max_pooling2d_2 (MaxPooling2 (32, 30, 30, 32)          0         \n",
      "_________________________________________________________________\n",
      "flatten (Flatten)            (32, 28800)               0         \n",
      "_________________________________________________________________\n",
      "dense (Dense)                (32, 128)                 3686528   \n",
      "_________________________________________________________________\n",
      "dense_1 (Dense)              (32, 2)                   258       \n",
      "=================================================================\n",
      "Total params: 3,706,178\n",
      "Trainable params: 3,706,178\n",
      "Non-trainable params: 0\n",
      "_________________________________________________________________\n"
     ]
    }
   ],
   "source": [
    "model.summary()"
   ]
  },
  {
   "cell_type": "markdown",
   "id": "f1c22248",
   "metadata": {
    "papermill": {
     "duration": 0.120685,
     "end_time": "2023-04-04T08:44:59.396214",
     "exception": false,
     "start_time": "2023-04-04T08:44:59.275529",
     "status": "completed"
    },
    "tags": []
   },
   "source": [
    "**Visualsing Our Model's Performance**"
   ]
  },
  {
   "cell_type": "code",
   "execution_count": 20,
   "id": "57af097a",
   "metadata": {
    "execution": {
     "iopub.execute_input": "2023-04-04T08:44:59.652942Z",
     "iopub.status.busy": "2023-04-04T08:44:59.652140Z",
     "iopub.status.idle": "2023-04-04T08:44:59.901073Z",
     "shell.execute_reply": "2023-04-04T08:44:59.900507Z",
     "shell.execute_reply.started": "2023-04-04T08:39:25.366582Z"
    },
    "papermill": {
     "duration": 0.383054,
     "end_time": "2023-04-04T08:44:59.901215",
     "exception": false,
     "start_time": "2023-04-04T08:44:59.518161",
     "status": "completed"
    },
    "tags": []
   },
   "outputs": [
    {
     "data": {
      "text/plain": [
       "<AxesSubplot:>"
      ]
     },
     "execution_count": 20,
     "metadata": {},
     "output_type": "execute_result"
    },
    {
     "data": {
      "image/png": "[encoded data removed]",
      "text/plain": [
       "<Figure size 432x288 with 1 Axes>"
      ]
     },
     "metadata": {
      "needs_background": "light"
     },
     "output_type": "display_data"
    }
   ],
   "source": [
    "pd.DataFrame(deep_model.history).plot()"
   ]
  },
  {
   "cell_type": "markdown",
   "id": "0307398b",
   "metadata": {
    "papermill": {
     "duration": 0.123584,
     "end_time": "2023-04-04T08:45:00.148049",
     "exception": false,
     "start_time": "2023-04-04T08:45:00.024465",
     "status": "completed"
    },
    "tags": []
   },
   "source": [
    "**Evaluating model to Test Our Model**"
   ]
  },
  {
   "cell_type": "code",
   "execution_count": 21,
   "id": "0f2c20c2",
   "metadata": {
    "execution": {
     "iopub.execute_input": "2023-04-04T08:45:00.397287Z",
     "iopub.status.busy": "2023-04-04T08:45:00.396462Z",
     "iopub.status.idle": "2023-04-04T08:45:00.626180Z",
     "shell.execute_reply": "2023-04-04T08:45:00.625559Z",
     "shell.execute_reply.started": "2023-04-04T08:39:49.252016Z"
    },
    "papermill": {
     "duration": 0.356512,
     "end_time": "2023-04-04T08:45:00.626327",
     "exception": false,
     "start_time": "2023-04-04T08:45:00.269815",
     "status": "completed"
    },
    "tags": []
   },
   "outputs": [
    {
     "name": "stdout",
     "output_type": "stream",
     "text": [
      "3/3 [==============================] - 0s 19ms/step - loss: 0.1784 - accuracy: 0.9375\n"
     ]
    },
    {
     "data": {
      "text/plain": [
       "[0.17844420671463013, 0.9375]"
      ]
     },
     "execution_count": 21,
     "metadata": {},
     "output_type": "execute_result"
    }
   ],
   "source": [
    "model.evaluate(val_ds)"
   ]
  },
  {
   "cell_type": "code",
   "execution_count": 22,
   "id": "69e8f45f",
   "metadata": {
    "execution": {
     "iopub.execute_input": "2023-04-04T08:45:00.878288Z",
     "iopub.status.busy": "2023-04-04T08:45:00.875554Z",
     "iopub.status.idle": "2023-04-04T08:45:01.145557Z",
     "shell.execute_reply": "2023-04-04T08:45:01.144488Z",
     "shell.execute_reply.started": "2023-04-04T08:39:43.921182Z"
    },
    "papermill": {
     "duration": 0.395045,
     "end_time": "2023-04-04T08:45:01.145695",
     "exception": false,
     "start_time": "2023-04-04T08:45:00.750650",
     "status": "completed"
    },
    "tags": []
   },
   "outputs": [
    {
     "name": "stdout",
     "output_type": "stream",
     "text": [
      "3/3 [==============================] - 0s 16ms/step - loss: 0.1067 - accuracy: 0.9688\n"
     ]
    },
    {
     "data": {
      "text/plain": [
       "[0.1067056730389595, 0.96875]"
      ]
     },
     "execution_count": 22,
     "metadata": {},
     "output_type": "execute_result"
    }
   ],
   "source": [
    "model.evaluate(test_ds)"
   ]
  },
  {
   "cell_type": "code",
   "execution_count": 23,
   "id": "aae6d150",
   "metadata": {
    "execution": {
     "iopub.execute_input": "2023-04-04T08:45:01.402027Z",
     "iopub.status.busy": "2023-04-04T08:45:01.401146Z",
     "iopub.status.idle": "2023-04-04T08:45:01.487742Z",
     "shell.execute_reply": "2023-04-04T08:45:01.488966Z",
     "shell.execute_reply.started": "2023-04-04T08:43:07.995760Z"
    },
    "papermill": {
     "duration": 0.219157,
     "end_time": "2023-04-04T08:45:01.489271",
     "exception": false,
     "start_time": "2023-04-04T08:45:01.270114",
     "status": "completed"
    },
    "tags": []
   },
   "outputs": [],
   "source": [
    "model.save(\"Eye_Classification.h5\")"
   ]
  }
 ],
 "metadata": {
  "kernelspec": {
   "display_name": "Python 3",
   "language": "python",
   "name": "python3"
  },
  "language_info": {
   "codemirror_mode": {
    "name": "ipython",
    "version": 3
   },
   "file_extension": ".py",
   "mimetype": "text/x-python",
   "name": "python",
   "nbconvert_exporter": "python",
   "pygments_lexer": "ipython3",
   "version": "3.7.12"
  },
  "papermill": {
   "default_parameters": {},
   "duration": 84.457823,
   "end_time": "2023-04-04T08:45:05.097007",
   "environment_variables": {},
   "exception": null,
   "input_path": "__notebook__.ipynb",
   "output_path": "__notebook__.ipynb",
   "parameters": {},
   "start_time": "2023-04-04T08:43:40.639184",
   "version": "2.3.3"
  }
 },
 "nbformat": 4,
 "nbformat_minor": 5
}
