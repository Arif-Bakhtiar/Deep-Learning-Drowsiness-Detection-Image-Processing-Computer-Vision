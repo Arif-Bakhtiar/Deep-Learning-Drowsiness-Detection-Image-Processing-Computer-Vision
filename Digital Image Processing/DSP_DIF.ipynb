{
 "cells": [
  {
   "cell_type": "code",
   "execution_count": 4,
   "source": [
    "nPoint = int(input(\"Enter the number of point: \"))\r\n",
    "\r\n",
    "x=[]\r\n",
    "\r\n",
    "for i in range(0,nPoint):\r\n",
    "    x.append(int(input(\"x(%d): \"%i))) \r\n",
    "\r\n",
    "print(\"Number of Point: %d\"%(nPoint))\r\n",
    "print(\"x(n): \",x)\r\n",
    "\r\n"
   ],
   "outputs": [
    {
     "output_type": "stream",
     "name": "stdout",
     "text": [
      "Number of Point: 4\n",
      "x(n):  [1, 2, 3, 4]\n"
     ]
    }
   ],
   "metadata": {}
  },
  {
   "cell_type": "code",
   "execution_count": 63,
   "source": [
    "import numpy as np\r\n",
    "def CalEightPoint(n,x,w):\r\n",
    "    if(n<8):\r\n",
    "        return x\r\n",
    "    print(w)\r\n",
    "    xx =[complex(0,0) for x in range(8)]\r\n",
    "    for i in range(0,n):\r\n",
    "        if(i<4):\r\n",
    "            xx[i]=(x[i]+x[i+4])\r\n",
    "        else:\r\n",
    "            xx[i]=((-1*x[i]+x[i-4])*w[i-4])\r\n",
    "    print(\"After Eight Point x(n): \",xx)\r\n",
    "\r\n",
    "    return xx\r\n",
    "\r\n",
    "\r\n",
    "\r\n",
    "def CalFourPoint(n,x,w):\r\n",
    "    if(n<4):\r\n",
    "        return x\r\n",
    "    \r\n",
    "    xx =[complex(0,0) for x in range(8)]\r\n",
    "\r\n",
    "    for i in range(0,n):\r\n",
    "        if((i>=0 and i<=1) or(i>=4 and i<=5)):\r\n",
    "            xx[i]=(x[i]+x[i+2])\r\n",
    "        else:\r\n",
    "            xx[i]=((-1*x[i]+x[i-2])*w[(i&1)])\r\n",
    "    print(\"After Four Point x(n): \",xx)\r\n",
    "\r\n",
    "    return xx\r\n",
    "    \r\n",
    "\r\n",
    "def CalTwoPoint(n,x):\r\n",
    "    xx =[complex(0,0) for x in range(8)]\r\n",
    "    for i in range(0,n):\r\n",
    "        if(i%2==1):\r\n",
    "            xx[i]=((-1*x[i]+x[i-1]))\r\n",
    "        else:\r\n",
    "            xx[i]=(x[i]+x[i+1])        \r\n",
    "    print(\"After Two Point x(n): \",xx)\r\n",
    "\r\n",
    "    return xx\r\n",
    "\r\n",
    "\r\n",
    "def Reverse(x,n):\r\n",
    "    y=0\r\n",
    "    cnt=0\r\n",
    "    while(cnt<3):\r\n",
    "        y=y<<1\r\n",
    "        if(x&1==1):\r\n",
    "           y=y|1           \r\n",
    "        x=x>>1\r\n",
    "        \r\n",
    "        cnt+=1\r\n",
    "    \r\n",
    "    return y\r\n",
    "           \r\n",
    "\r\n",
    "\r\n",
    "def GenerateXOfK(x,n):\r\n",
    "    xx =[complex(0,0) for x in range(len(x))]\r\n",
    "\r\n",
    "    for i in range(0,len(x)):\r\n",
    "        xx[Reverse(i,n)]=x[i]\r\n",
    "    return xx\r\n",
    "\r\n",
    "\r\n",
    "w4=[complex(1,0),complex(0,-1)]\r\n",
    "w8=[complex(1,0),complex(0.707,-0.707),complex(0,-1),complex(-0.707,-0.707)]\r\n",
    "\r\n",
    "x1 = CalEightPoint(nPoint,x,w8)\r\n",
    "x2 = CalFourPoint(nPoint,x1,w4)\r\n",
    "x3 = CalTwoPoint(nPoint,x2)\r\n",
    "\r\n",
    "ans = GenerateXOfK(x3,nPoint)\r\n",
    "print(\"x(k): \",ans)\r\n"
   ],
   "outputs": [
    {
     "output_type": "stream",
     "name": "stdout",
     "text": [
      "[(1+0j), (0.707-0.707j), -1j, (-0.707-0.707j)]\n",
      "After Eight Point x(n):  [6, 8, 10, 12, (-4+0j), (-2.828+2.828j), 4j, (2.828+2.828j)]\n",
      "After Four Point x(n):  [16, 20, (-4+0j), 4j, (-4+4j), 5.656j, (-4-4j), 5.656j]\n",
      "After Two Point x(n):  [36, -4, (-4+4j), (-4-4j), (-4+9.655999999999999j), (-4-1.6559999999999997j), (-4+1.6559999999999997j), (-4-9.655999999999999j)]\n",
      "x(k):  [36, (-4+9.655999999999999j), (-4+4j), (-4+1.6559999999999997j), -4, (-4-1.6559999999999997j), (-4-4j), (-4-9.655999999999999j)]\n"
     ]
    }
   ],
   "metadata": {}
  }
 ],
 "metadata": {
  "kernelspec": {
   "name": "python3",
   "display_name": "Python 3.11.0 64-bit"
  },
  "language_info": {
   "codemirror_mode": {
    "name": "ipython",
    "version": 3
   },
   "file_extension": ".py",
   "mimetype": "text/x-python",
   "name": "python",
   "nbconvert_exporter": "python",
   "pygments_lexer": "ipython3",
   "version": "3.11.0"
  },
  "orig_nbformat": 4,
  "vscode": {
   "interpreter": {
    "hash": "dc07d24e2f18896857f0b2a651fe84ba40ce7b297e58d8804a308c8039f752a6"
   }
  },
  "interpreter": {
   "hash": "3d6a352c7c47ed4063c0dc117c58bc87b7957f7aa92eaad25e202273335ea11b"
  }
 },
 "nbformat": 4,
 "nbformat_minor": 2
}