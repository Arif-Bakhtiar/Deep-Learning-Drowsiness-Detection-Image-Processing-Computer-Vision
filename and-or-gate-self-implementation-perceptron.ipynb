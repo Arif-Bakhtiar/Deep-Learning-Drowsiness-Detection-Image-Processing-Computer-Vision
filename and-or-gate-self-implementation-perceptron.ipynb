{
 "cells": [
  {
   "cell_type": "code",
   "execution_count": 1,
   "id": "588fc951",
   "metadata": {
    "execution": {
     "iopub.execute_input": "2023-01-22T16:39:27.351937Z",
     "iopub.status.busy": "2023-01-22T16:39:27.351286Z",
     "iopub.status.idle": "2023-01-22T16:39:28.316940Z",
     "shell.execute_reply": "2023-01-22T16:39:28.315709Z"
    },
    "papermill": {
     "duration": 0.977325,
     "end_time": "2023-01-22T16:39:28.319777",
     "exception": false,
     "start_time": "2023-01-22T16:39:27.342452",
     "status": "completed"
    },
    "tags": []
   },
   "outputs": [],
   "source": [
    "import numpy as np\n",
    "import matplotlib.pyplot as plt\n",
    "import pandas as pd\n",
    "from sklearn.metrics import accuracy_score"
   ]
  },
  {
   "cell_type": "code",
   "execution_count": 2,
   "id": "f270898d",
   "metadata": {
    "execution": {
     "iopub.execute_input": "2023-01-22T16:39:28.335989Z",
     "iopub.status.busy": "2023-01-22T16:39:28.335211Z",
     "iopub.status.idle": "2023-01-22T16:39:28.704346Z",
     "shell.execute_reply": "2023-01-22T16:39:28.702913Z"
    },
    "papermill": {
     "duration": 0.379641,
     "end_time": "2023-01-22T16:39:28.707362",
     "exception": false,
     "start_time": "2023-01-22T16:39:28.327721",
     "status": "completed"
    },
    "tags": []
   },
   "outputs": [],
   "source": [
    "df = pd.read_excel(\"/kaggle/input/and-or-gate-using-perceptron/And_or_gate.xlsx\")"
   ]
  },
  {
   "cell_type": "code",
   "execution_count": 3,
   "id": "22d8a48a",
   "metadata": {
    "execution": {
     "iopub.execute_input": "2023-01-22T16:39:28.724562Z",
     "iopub.status.busy": "2023-01-22T16:39:28.723779Z",
     "iopub.status.idle": "2023-01-22T16:39:28.750624Z",
     "shell.execute_reply": "2023-01-22T16:39:28.749415Z"
    },
    "papermill": {
     "duration": 0.039989,
     "end_time": "2023-01-22T16:39:28.753512",
     "exception": false,
     "start_time": "2023-01-22T16:39:28.713523",
     "status": "completed"
    },
    "tags": []
   },
   "outputs": [
    {
     "data": {
      "text/html": [
       "<div>\n",
       "<style scoped>\n",
       "    .dataframe tbody tr th:only-of-type {\n",
       "        vertical-align: middle;\n",
       "    }\n",
       "\n",
       "    .dataframe tbody tr th {\n",
       "        vertical-align: top;\n",
       "    }\n",
       "\n",
       "    .dataframe thead th {\n",
       "        text-align: right;\n",
       "    }\n",
       "</style>\n",
       "<table border=\"1\" class=\"dataframe\">\n",
       "  <thead>\n",
       "    <tr style=\"text-align: right;\">\n",
       "      <th></th>\n",
       "      <th>X1</th>\n",
       "      <th>X2</th>\n",
       "      <th>Output</th>\n",
       "    </tr>\n",
       "  </thead>\n",
       "  <tbody>\n",
       "    <tr>\n",
       "      <th>0</th>\n",
       "      <td>0</td>\n",
       "      <td>1</td>\n",
       "      <td>0</td>\n",
       "    </tr>\n",
       "    <tr>\n",
       "      <th>1</th>\n",
       "      <td>1</td>\n",
       "      <td>0</td>\n",
       "      <td>0</td>\n",
       "    </tr>\n",
       "    <tr>\n",
       "      <th>2</th>\n",
       "      <td>0</td>\n",
       "      <td>0</td>\n",
       "      <td>0</td>\n",
       "    </tr>\n",
       "    <tr>\n",
       "      <th>3</th>\n",
       "      <td>1</td>\n",
       "      <td>1</td>\n",
       "      <td>1</td>\n",
       "    </tr>\n",
       "  </tbody>\n",
       "</table>\n",
       "</div>"
      ],
      "text/plain": [
       "   X1  X2  Output\n",
       "0   0   1       0\n",
       "1   1   0       0\n",
       "2   0   0       0\n",
       "3   1   1       1"
      ]
     },
     "execution_count": 3,
     "metadata": {},
     "output_type": "execute_result"
    }
   ],
   "source": [
    "df.head(4)"
   ]
  },
  {
   "cell_type": "code",
   "execution_count": 4,
   "id": "45344b07",
   "metadata": {
    "execution": {
     "iopub.execute_input": "2023-01-22T16:39:28.772372Z",
     "iopub.status.busy": "2023-01-22T16:39:28.771469Z",
     "iopub.status.idle": "2023-01-22T16:39:28.785174Z",
     "shell.execute_reply": "2023-01-22T16:39:28.783739Z"
    },
    "papermill": {
     "duration": 0.027024,
     "end_time": "2023-01-22T16:39:28.788289",
     "exception": false,
     "start_time": "2023-01-22T16:39:28.761265",
     "status": "completed"
    },
    "tags": []
   },
   "outputs": [],
   "source": [
    "x = df.drop(columns='Output').head(4).values\n",
    "x1 = x = df.drop(columns='Output').tail(4).values"
   ]
  },
  {
   "cell_type": "code",
   "execution_count": 5,
   "id": "e30d9dd2",
   "metadata": {
    "execution": {
     "iopub.execute_input": "2023-01-22T16:39:28.802596Z",
     "iopub.status.busy": "2023-01-22T16:39:28.802170Z",
     "iopub.status.idle": "2023-01-22T16:39:28.808589Z",
     "shell.execute_reply": "2023-01-22T16:39:28.807681Z"
    },
    "papermill": {
     "duration": 0.016554,
     "end_time": "2023-01-22T16:39:28.811177",
     "exception": false,
     "start_time": "2023-01-22T16:39:28.794623",
     "status": "completed"
    },
    "tags": []
   },
   "outputs": [],
   "source": [
    "y = df['Output'].head(4).values\n",
    "y1 = df['Output'].tail(4).values"
   ]
  },
  {
   "cell_type": "code",
   "execution_count": 6,
   "id": "89344522",
   "metadata": {
    "execution": {
     "iopub.execute_input": "2023-01-22T16:39:28.826261Z",
     "iopub.status.busy": "2023-01-22T16:39:28.825070Z",
     "iopub.status.idle": "2023-01-22T16:39:28.837998Z",
     "shell.execute_reply": "2023-01-22T16:39:28.836900Z"
    },
    "papermill": {
     "duration": 0.023552,
     "end_time": "2023-01-22T16:39:28.840970",
     "exception": false,
     "start_time": "2023-01-22T16:39:28.817418",
     "status": "completed"
    },
    "tags": []
   },
   "outputs": [],
   "source": [
    "class MyPerceptron:\n",
    "    \n",
    "    def __init__(self, learning_rate=0.1, n_iterations=10000):\n",
    "        \n",
    "        self.lr = learning_rate\n",
    "        self.epochs = n_iterations\n",
    "        self.weights = None\n",
    "        self.bias = None\n",
    "    \n",
    "    def fit(self, x, y):\n",
    "        \n",
    "        self.weights = np.zeros(x.shape[1])\n",
    "        self.bias = 0\n",
    "        \n",
    "        for epoch in range(self.epochs):\n",
    "            for i in range(x.shape[0]):\n",
    "                y_pred = np.dot(self.weights, x[i]) + self.bias\n",
    "                self.weights = self.weights + self.lr * (y[i] - y_pred) * x[i]\n",
    "                self.bias = self.bias + self.lr * (y[i] - y_pred) * 1\n",
    "        \n",
    "        print('Training Complete')\n",
    "        print(self.weights)\n",
    "        print(self.bias)\n",
    "        \n",
    "    def activation_function(self, activation):\n",
    "        \n",
    "        if activation >= 0:\n",
    "            return 1\n",
    "        else:\n",
    "            return 0\n",
    "    \n",
    "    def predict(self, x):\n",
    "        \n",
    "        y_pred = []\n",
    "        \n",
    "        for i in range(x.shape[0]):\n",
    "            y_pred.append(self.activation_function(np.dot(self.weights, x[i]) + self.bias))\n",
    "            \n",
    "        return np.array(y_pred)"
   ]
  },
  {
   "cell_type": "code",
   "execution_count": 7,
   "id": "d3d6b16e",
   "metadata": {
    "execution": {
     "iopub.execute_input": "2023-01-22T16:39:28.855869Z",
     "iopub.status.busy": "2023-01-22T16:39:28.855489Z",
     "iopub.status.idle": "2023-01-22T16:39:28.860847Z",
     "shell.execute_reply": "2023-01-22T16:39:28.859489Z"
    },
    "papermill": {
     "duration": 0.015152,
     "end_time": "2023-01-22T16:39:28.863085",
     "exception": false,
     "start_time": "2023-01-22T16:39:28.847933",
     "status": "completed"
    },
    "tags": []
   },
   "outputs": [],
   "source": [
    "clf = MyPerceptron()"
   ]
  },
  {
   "cell_type": "markdown",
   "id": "5022d0d7",
   "metadata": {
    "papermill": {
     "duration": 0.00747,
     "end_time": "2023-01-22T16:39:28.876964",
     "exception": false,
     "start_time": "2023-01-22T16:39:28.869494",
     "status": "completed"
    },
    "tags": []
   },
   "source": [
    "# **Fitting AND Gate**"
   ]
  },
  {
   "cell_type": "code",
   "execution_count": 8,
   "id": "24a42522",
   "metadata": {
    "execution": {
     "iopub.execute_input": "2023-01-22T16:39:28.891005Z",
     "iopub.status.busy": "2023-01-22T16:39:28.890571Z",
     "iopub.status.idle": "2023-01-22T16:39:29.360958Z",
     "shell.execute_reply": "2023-01-22T16:39:29.359560Z"
    },
    "papermill": {
     "duration": 0.480937,
     "end_time": "2023-01-22T16:39:29.364033",
     "exception": false,
     "start_time": "2023-01-22T16:39:28.883096",
     "status": "completed"
    },
    "tags": []
   },
   "outputs": [
    {
     "name": "stdout",
     "output_type": "stream",
     "text": [
      "Training Complete\n",
      "[0.55555556 0.52777778]\n",
      "-0.24999999999999925\n"
     ]
    }
   ],
   "source": [
    "clf.fit(np.array([[0,1],[1,0],[1,1],[0,0]]), np.array([0,0,1,0]))"
   ]
  },
  {
   "cell_type": "code",
   "execution_count": 9,
   "id": "c5c992d4",
   "metadata": {
    "execution": {
     "iopub.execute_input": "2023-01-22T16:39:29.377907Z",
     "iopub.status.busy": "2023-01-22T16:39:29.377486Z",
     "iopub.status.idle": "2023-01-22T16:39:29.386015Z",
     "shell.execute_reply": "2023-01-22T16:39:29.384939Z"
    },
    "papermill": {
     "duration": 0.018164,
     "end_time": "2023-01-22T16:39:29.388497",
     "exception": false,
     "start_time": "2023-01-22T16:39:29.370333",
     "status": "completed"
    },
    "tags": []
   },
   "outputs": [
    {
     "data": {
      "text/plain": [
       "array([[0, 1],\n",
       "       [1, 0],\n",
       "       [0, 0],\n",
       "       [1, 1]])"
      ]
     },
     "execution_count": 9,
     "metadata": {},
     "output_type": "execute_result"
    }
   ],
   "source": [
    "x_test = df.drop(columns='Output').head(4).values\n",
    "x_test"
   ]
  },
  {
   "cell_type": "code",
   "execution_count": 10,
   "id": "17194509",
   "metadata": {
    "execution": {
     "iopub.execute_input": "2023-01-22T16:39:29.402715Z",
     "iopub.status.busy": "2023-01-22T16:39:29.402210Z",
     "iopub.status.idle": "2023-01-22T16:39:29.408339Z",
     "shell.execute_reply": "2023-01-22T16:39:29.407348Z"
    },
    "papermill": {
     "duration": 0.015798,
     "end_time": "2023-01-22T16:39:29.410657",
     "exception": false,
     "start_time": "2023-01-22T16:39:29.394859",
     "status": "completed"
    },
    "tags": []
   },
   "outputs": [],
   "source": [
    "y_pred = clf.predict(x_test)"
   ]
  },
  {
   "cell_type": "code",
   "execution_count": 11,
   "id": "8356772e",
   "metadata": {
    "execution": {
     "iopub.execute_input": "2023-01-22T16:39:29.424218Z",
     "iopub.status.busy": "2023-01-22T16:39:29.423853Z",
     "iopub.status.idle": "2023-01-22T16:39:29.430550Z",
     "shell.execute_reply": "2023-01-22T16:39:29.429528Z"
    },
    "papermill": {
     "duration": 0.016182,
     "end_time": "2023-01-22T16:39:29.432795",
     "exception": false,
     "start_time": "2023-01-22T16:39:29.416613",
     "status": "completed"
    },
    "tags": []
   },
   "outputs": [
    {
     "data": {
      "text/plain": [
       "array([1, 1, 0, 1])"
      ]
     },
     "execution_count": 11,
     "metadata": {},
     "output_type": "execute_result"
    }
   ],
   "source": [
    "y_pred"
   ]
  },
  {
   "cell_type": "code",
   "execution_count": 12,
   "id": "3fea19fa",
   "metadata": {
    "execution": {
     "iopub.execute_input": "2023-01-22T16:39:29.446778Z",
     "iopub.status.busy": "2023-01-22T16:39:29.446358Z",
     "iopub.status.idle": "2023-01-22T16:39:29.454292Z",
     "shell.execute_reply": "2023-01-22T16:39:29.453187Z"
    },
    "papermill": {
     "duration": 0.017662,
     "end_time": "2023-01-22T16:39:29.456502",
     "exception": false,
     "start_time": "2023-01-22T16:39:29.438840",
     "status": "completed"
    },
    "tags": []
   },
   "outputs": [
    {
     "data": {
      "text/plain": [
       "50.0"
      ]
     },
     "execution_count": 12,
     "metadata": {},
     "output_type": "execute_result"
    }
   ],
   "source": [
    "accuracy_score(y_pred, np.array([0,0,0,1])) * 100"
   ]
  },
  {
   "cell_type": "markdown",
   "id": "5cb660fc",
   "metadata": {
    "papermill": {
     "duration": 0.005901,
     "end_time": "2023-01-22T16:39:29.468740",
     "exception": false,
     "start_time": "2023-01-22T16:39:29.462839",
     "status": "completed"
    },
    "tags": []
   },
   "source": [
    "# **Fitting OR Gate**"
   ]
  },
  {
   "cell_type": "code",
   "execution_count": 13,
   "id": "8bcee0a0",
   "metadata": {
    "execution": {
     "iopub.execute_input": "2023-01-22T16:39:29.482807Z",
     "iopub.status.busy": "2023-01-22T16:39:29.482381Z",
     "iopub.status.idle": "2023-01-22T16:39:29.982943Z",
     "shell.execute_reply": "2023-01-22T16:39:29.981454Z"
    },
    "papermill": {
     "duration": 0.510824,
     "end_time": "2023-01-22T16:39:29.985629",
     "exception": false,
     "start_time": "2023-01-22T16:39:29.474805",
     "status": "completed"
    },
    "tags": []
   },
   "outputs": [
    {
     "name": "stdout",
     "output_type": "stream",
     "text": [
      "Training Complete\n",
      "[-1.38009639e-15 -1.00000000e+00]\n",
      "1.0000000000000009\n"
     ]
    }
   ],
   "source": [
    "clf.fit(np.array([[0,0],[1,0],[0,0],[1,1]]), y1)"
   ]
  },
  {
   "cell_type": "code",
   "execution_count": 14,
   "id": "09d664cb",
   "metadata": {
    "execution": {
     "iopub.execute_input": "2023-01-22T16:39:30.001621Z",
     "iopub.status.busy": "2023-01-22T16:39:30.000177Z",
     "iopub.status.idle": "2023-01-22T16:39:30.009916Z",
     "shell.execute_reply": "2023-01-22T16:39:30.008741Z"
    },
    "papermill": {
     "duration": 0.020147,
     "end_time": "2023-01-22T16:39:30.012183",
     "exception": false,
     "start_time": "2023-01-22T16:39:29.992036",
     "status": "completed"
    },
    "tags": []
   },
   "outputs": [
    {
     "data": {
      "text/plain": [
       "array([[0, 1],\n",
       "       [1, 0],\n",
       "       [1, 1],\n",
       "       [0, 0]])"
      ]
     },
     "execution_count": 14,
     "metadata": {},
     "output_type": "execute_result"
    }
   ],
   "source": [
    "x_test1 = df.drop(columns='Output').tail(4).values\n",
    "x_test1"
   ]
  },
  {
   "cell_type": "code",
   "execution_count": 15,
   "id": "be919794",
   "metadata": {
    "execution": {
     "iopub.execute_input": "2023-01-22T16:39:30.027427Z",
     "iopub.status.busy": "2023-01-22T16:39:30.026988Z",
     "iopub.status.idle": "2023-01-22T16:39:30.032626Z",
     "shell.execute_reply": "2023-01-22T16:39:30.031422Z"
    },
    "papermill": {
     "duration": 0.015979,
     "end_time": "2023-01-22T16:39:30.035066",
     "exception": false,
     "start_time": "2023-01-22T16:39:30.019087",
     "status": "completed"
    },
    "tags": []
   },
   "outputs": [],
   "source": [
    "y_pred1 = clf.predict(x_test1)"
   ]
  },
  {
   "cell_type": "code",
   "execution_count": 16,
   "id": "c4aa39d7",
   "metadata": {
    "execution": {
     "iopub.execute_input": "2023-01-22T16:39:30.049917Z",
     "iopub.status.busy": "2023-01-22T16:39:30.049522Z",
     "iopub.status.idle": "2023-01-22T16:39:30.056861Z",
     "shell.execute_reply": "2023-01-22T16:39:30.055662Z"
    },
    "papermill": {
     "duration": 0.017437,
     "end_time": "2023-01-22T16:39:30.059045",
     "exception": false,
     "start_time": "2023-01-22T16:39:30.041608",
     "status": "completed"
    },
    "tags": []
   },
   "outputs": [
    {
     "data": {
      "text/plain": [
       "array([1, 1, 1, 1])"
      ]
     },
     "execution_count": 16,
     "metadata": {},
     "output_type": "execute_result"
    }
   ],
   "source": [
    "y_pred1"
   ]
  },
  {
   "cell_type": "code",
   "execution_count": 17,
   "id": "091ee1bf",
   "metadata": {
    "execution": {
     "iopub.execute_input": "2023-01-22T16:39:30.073878Z",
     "iopub.status.busy": "2023-01-22T16:39:30.073461Z",
     "iopub.status.idle": "2023-01-22T16:39:30.082309Z",
     "shell.execute_reply": "2023-01-22T16:39:30.081224Z"
    },
    "papermill": {
     "duration": 0.018825,
     "end_time": "2023-01-22T16:39:30.084501",
     "exception": false,
     "start_time": "2023-01-22T16:39:30.065676",
     "status": "completed"
    },
    "tags": []
   },
   "outputs": [
    {
     "data": {
      "text/plain": [
       "75.0"
      ]
     },
     "execution_count": 17,
     "metadata": {},
     "output_type": "execute_result"
    }
   ],
   "source": [
    "accuracy_score(y_pred1, np.array([1,1,1,0])) * 100"
   ]
  },
  {
   "cell_type": "markdown",
   "id": "13f29fbb",
   "metadata": {
    "papermill": {
     "duration": 0.006304,
     "end_time": "2023-01-22T16:39:30.097429",
     "exception": false,
     "start_time": "2023-01-22T16:39:30.091125",
     "status": "completed"
    },
    "tags": []
   },
   "source": [
    "# **Hinge Loss as Perceptron Loss Function and Step Function as the Activation Function**"
   ]
  },
  {
   "cell_type": "code",
   "execution_count": 18,
   "id": "a952491d",
   "metadata": {
    "execution": {
     "iopub.execute_input": "2023-01-22T16:39:30.112603Z",
     "iopub.status.busy": "2023-01-22T16:39:30.112175Z",
     "iopub.status.idle": "2023-01-22T16:39:30.119720Z",
     "shell.execute_reply": "2023-01-22T16:39:30.118820Z"
    },
    "papermill": {
     "duration": 0.017827,
     "end_time": "2023-01-22T16:39:30.121807",
     "exception": false,
     "start_time": "2023-01-22T16:39:30.103980",
     "status": "completed"
    },
    "tags": []
   },
   "outputs": [],
   "source": [
    "def perceptron(X,y):\n",
    "    \n",
    "    w1=w2=b=1\n",
    "    lr = 0.1\n",
    "    \n",
    "    for j in range(100000):\n",
    "    \n",
    "        for i in range(X.shape[0]):\n",
    "\n",
    "            # check condition\n",
    "            z = w1*X[i][0] + w2*X[i][1] + b\n",
    "\n",
    "            if z*y[i] < 0:\n",
    "                w1 = w1 + lr*y[i]*X[i][0]\n",
    "                w2 = w2 + lr*y[i]*X[i][1]\n",
    "                b = b + lr*y[i]\n",
    "            \n",
    "    return w1,w2,b"
   ]
  },
  {
   "cell_type": "code",
   "execution_count": 19,
   "id": "9927bed1",
   "metadata": {
    "execution": {
     "iopub.execute_input": "2023-01-22T16:39:30.137338Z",
     "iopub.status.busy": "2023-01-22T16:39:30.136940Z",
     "iopub.status.idle": "2023-01-22T16:39:30.681226Z",
     "shell.execute_reply": "2023-01-22T16:39:30.680081Z"
    },
    "papermill": {
     "duration": 0.555534,
     "end_time": "2023-01-22T16:39:30.684023",
     "exception": false,
     "start_time": "2023-01-22T16:39:30.128489",
     "status": "completed"
    },
    "tags": []
   },
   "outputs": [],
   "source": [
    "w1,w2,b = perceptron(np.array([[0,0],[0,1],[1,1],[0,0]]), np.array([0,0,1,0]))"
   ]
  },
  {
   "cell_type": "code",
   "execution_count": 20,
   "id": "a91299c8",
   "metadata": {
    "execution": {
     "iopub.execute_input": "2023-01-22T16:39:30.700125Z",
     "iopub.status.busy": "2023-01-22T16:39:30.699543Z",
     "iopub.status.idle": "2023-01-22T16:39:30.709284Z",
     "shell.execute_reply": "2023-01-22T16:39:30.707432Z"
    },
    "papermill": {
     "duration": 0.021608,
     "end_time": "2023-01-22T16:39:30.712779",
     "exception": false,
     "start_time": "2023-01-22T16:39:30.691171",
     "status": "completed"
    },
    "tags": []
   },
   "outputs": [
    {
     "data": {
      "text/plain": [
       "3"
      ]
     },
     "execution_count": 20,
     "metadata": {},
     "output_type": "execute_result"
    }
   ],
   "source": [
    "val = w1 * 1 + w2 * 1 + b\n",
    "val"
   ]
  }
 ],
 "metadata": {
  "kernelspec": {
   "display_name": "Python 3",
   "language": "python",
   "name": "python3"
  },
  "language_info": {
   "codemirror_mode": {
    "name": "ipython",
    "version": 3
   },
   "file_extension": ".py",
   "mimetype": "text/x-python",
   "name": "python",
   "nbconvert_exporter": "python",
   "pygments_lexer": "ipython3",
   "version": "3.7.12"
  },
  "papermill": {
   "default_parameters": {},
   "duration": 12.970655,
   "end_time": "2023-01-22T16:39:31.546926",
   "environment_variables": {},
   "exception": null,
   "input_path": "__notebook__.ipynb",
   "output_path": "__notebook__.ipynb",
   "parameters": {},
   "start_time": "2023-01-22T16:39:18.576271",
   "version": "2.3.4"
  }
 },
 "nbformat": 4,
 "nbformat_minor": 5
}
